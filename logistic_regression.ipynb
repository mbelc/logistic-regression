{
 "cells": [
  {
   "cell_type": "markdown",
   "metadata": {
    "colab_type": "text",
    "id": "gqfXHGnDlVUE"
   },
   "source": [
    "By: Mohamed Ait Mhamed Belcaid, Graduate Student in Electrical Engineering, Michigan Technological University.\n",
    "\n",
    "\n",
    "# References\n",
    "\n",
    "Credit: codes developed in this project have been inspired by the following references:\n",
    "\n",
    "\\[1\\] T. Havens, \"Data Classification,\" CS/EE 5841 Machine Learning Lecture notes, College of Computing, Michigan Technological University, Spring 2020.\n",
    "\n",
    "\\[2\\] https://gist.github.com/tylerneylon/ce60e8a06e7506ac45788443f7269e40\n",
    "\n",
    "\\[3\\] https://beckernick.github.io/logistic-regression-from-scratch/"
   ]
  },
  {
   "cell_type": "markdown",
   "metadata": {
    "colab_type": "text",
    "id": "yAmpSBqQVaep"
   },
   "source": [
    "# Part 2: Logistic Regression Classification\n",
    "\n",
    "## MNIST data:\n",
    "\n",
    "The following codes are designed to read the .gz files for the MNIST data sets."
   ]
  },
  {
   "cell_type": "code",
   "execution_count": 0,
   "metadata": {
    "colab": {},
    "colab_type": "code",
    "id": "4zIhWkIxVaer"
   },
   "outputs": [],
   "source": [
    "# import packages\n",
    "from __future__ import print_function\n",
    "import time\n",
    "import gzip\n",
    "import struct\n",
    "import numpy as np\n",
    "import matplotlib\n",
    "import matplotlib.pyplot as plt\n",
    "# from sklearn.linear_model import LogisticRegression # used only for comparisson\n",
    "# from sklearn.model_selection import train_test_split\n",
    "# from sklearn.metrics import classification_report\n",
    "# from sklearn import datasets\n",
    "# import sklearn\n"
   ]
  },
  {
   "cell_type": "code",
   "execution_count": 2,
   "metadata": {
    "colab": {
     "base_uri": "https://localhost:8080/",
     "height": 178,
     "resources": {
      "http://localhost:8080/nbextensions/google.colab/files.js": {
       "data": "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",
       "headers": [
        [
         "content-type",
         "application/javascript"
        ]
       ],
       "ok": true,
       "status": 200,
       "status_text": ""
      }
     }
    },
    "colab_type": "code",
    "executionInfo": {
     "elapsed": 94704,
     "status": "ok",
     "timestamp": 1584737232471,
     "user": {
      "displayName": "Mohamed Ait Mhamed Belcaid",
      "photoUrl": "https://lh3.googleusercontent.com/a-/AOh14Gj3YniscJ4BUeKN4EKFcU5pm_IUZqkpUZDbGlgINA=s64",
      "userId": "01130297007541980381"
     },
     "user_tz": 240
    },
    "id": "3dz2QoeSi-HV",
    "outputId": "6ebe1792-7920-47fc-e3a7-f5c9e8b781a1"
   },
   "outputs": [
    {
     "data": {
      "text/html": [
       "\n",
       "     <input type=\"file\" id=\"files-b1258321-a3a9-421d-8fb3-a13112e55c92\" name=\"files[]\" multiple disabled />\n",
       "     <output id=\"result-b1258321-a3a9-421d-8fb3-a13112e55c92\">\n",
       "      Upload widget is only available when the cell has been executed in the\n",
       "      current browser session. Please rerun this cell to enable.\n",
       "      </output>\n",
       "      <script src=\"/nbextensions/google.colab/files.js\"></script> "
      ],
      "text/plain": [
       "<IPython.core.display.HTML object>"
      ]
     },
     "metadata": {
      "tags": []
     },
     "output_type": "display_data"
    },
    {
     "name": "stdout",
     "output_type": "stream",
     "text": [
      "Saving t10k-images-idx3-ubyte.gz to t10k-images-idx3-ubyte.gz\n",
      "Saving t10k-labels-idx1-ubyte.gz to t10k-labels-idx1-ubyte.gz\n",
      "Saving train-images-idx3-ubyte.gz to train-images-idx3-ubyte.gz\n",
      "Saving train-labels-idx1-ubyte.gz to train-labels-idx1-ubyte.gz\n"
     ]
    }
   ],
   "source": [
    "#\n",
    "\"\"\"\n",
    "# UNCOMMENT IF YOU ARE USING GOOGLE COLAB\n",
    "# select to upload from local drive: the 4 .gz files for MNIST data\n",
    "# uncomment the next two lines if you're using Google CoLab\n",
    "from google.colab import files\n",
    "uploaded = files.upload()\n",
    "\"\"\""
   ]
  },
  {
   "cell_type": "code",
   "execution_count": 0,
   "metadata": {
    "colab": {},
    "colab_type": "code",
    "id": "e719zyN7Vaev"
   },
   "outputs": [],
   "source": [
    "# Read MNIST data and labels from .gz files\n",
    "#\n",
    "# train-images-idx3-ubyte.gz:  training set images (9912422 bytes)\n",
    "# train-labels-idx1-ubyte.gz:  training set labels (28881 bytes)\n",
    "# t10k-images-idx3-ubyte.gz:   test set images (1648877 bytes)\n",
    "# t10k-labels-idx1-ubyte.gz:   test set labels (4542 bytes)\n",
    "#\n",
    "def read_mnist(filename):\n",
    "    # Based on reference [3]\n",
    "    # function that reads MNIST's file format into numpy arrays\n",
    "    with gzip.open(filename) as f:\n",
    "        zero, data_type, dims = struct.unpack('>HBB', f.read(4))\n",
    "        shape = tuple(struct.unpack('>I', f.read(4))[0] for d in range(dims))\n",
    "        return np.frombuffer(f.read(), dtype=np.uint8).reshape(shape)\n",
    "#\n",
    "# training/validation data\n",
    "filename       = 'train-images-idx3-ubyte.gz'\n",
    "trainvalData3D = read_mnist(filename)\n",
    "# convert 3D ndarrays of data to 2D array by reshaping each datapoint 28x28 to 1x784\n",
    "# for any 3D ndarray a (l, m, n), use: numpy.reshape(a, (l, m*n))\n",
    "a              = np.copy(trainvalData3D);\n",
    "trainvalData   = np.reshape(a, (a.shape[0],a.shape[1]*a.shape[2]))\n",
    "#\n",
    "# training/validation labels\n",
    "filename       = 'train-labels-idx1-ubyte.gz'\n",
    "trainvalLabels = read_mnist(filename)\n",
    "#\n",
    "# testing data\n",
    "filename       = 't10k-images-idx3-ubyte.gz'\n",
    "testData3D     = read_mnist(filename)\n",
    "# convert 3D ndarrays of data to 2D array by reshaping each datapoint 28x28 to 1x784\n",
    "# for any 3D ndarray a (l, m, n), use: numpy.reshape(a, (l, m*n))\n",
    "a              = np.copy(testData3D);\n",
    "testData       = np.reshape(a, (a.shape[0],a.shape[1]*a.shape[2]))\n",
    "#\n",
    "# testing labels\n",
    "filename       = 't10k-labels-idx1-ubyte.gz'\n",
    "testLabels     = read_mnist(filename)\n",
    "#"
   ]
  },
  {
   "cell_type": "markdown",
   "metadata": {
    "colab_type": "text",
    "id": "-H89EYu9Vae5"
   },
   "source": [
    "## Implementation:\n",
    "\n",
    "The main functions implemented for the classifier are presented in the following codes."
   ]
  },
  {
   "cell_type": "code",
   "execution_count": 0,
   "metadata": {
    "colab": {},
    "colab_type": "code",
    "id": "e0gkcV-qVafA"
   },
   "outputs": [],
   "source": [
    "def sigmoid(scores):\n",
    "    sig = 1.0 / (1.0 + np.exp(-scores))\n",
    "    return sig"
   ]
  },
  {
   "cell_type": "code",
   "execution_count": 0,
   "metadata": {
    "colab": {},
    "colab_type": "code",
    "id": "Yz0IX6M4VafE"
   },
   "outputs": [],
   "source": [
    "def log_likelihood(features, target, weights, lambda_reg):\n",
    "    # scores\n",
    "    scores = np.multiply( target, np.dot(features, weights) )\n",
    "    # log-likelihood with L2-regularization (λ as regularization parameter)\n",
    "    ll     = (lambda_reg/2) * np.dot(weights, weights) + np.sum( np.log(1 + np.exp(-scores)) )\n",
    "    return ll"
   ]
  },
  {
   "cell_type": "code",
   "execution_count": 0,
   "metadata": {
    "colab": {},
    "colab_type": "code",
    "id": "oDZfJLjRVafK"
   },
   "outputs": [],
   "source": [
    "def logistic_regression(features, target, num_iterations, lambda_reg):\n",
    "    # add first column of ones to account for bias b in weights w\n",
    "    intercept = np.ones((features.shape[0], 1))\n",
    "    features  = np.hstack((intercept, features))\n",
    "    # initialize weights\n",
    "    weights = np.zeros(features.shape[1])\n",
    "    # update weights in each iteration t\n",
    "    for iteration in range(num_iterations):\n",
    "        # use FIXED learning rate if needed (slower convergence AND higher accuracy)\n",
    "        # learning_rate = 1e-10 # use num_iterations = 1001\n",
    "        # use VARIABLE learning rate if needed (faster convergence AND lower accuracy)\n",
    "        learning_rate = 5e-4 * 1/np.sqrt(iteration+1) # add 1 to account for iteration=0\n",
    "        # compute scores\n",
    "        scores              = np.multiply( target, np.dot(features, weights) )\n",
    "        # compute prediction probabilities\n",
    "        predictions         = sigmoid(scores)\n",
    "        # compute gradients with L2-regularization (λ as regularization parameter)\n",
    "        output_error_signal = np.ones(predictions.shape) - predictions\n",
    "        inclass_features    = np.multiply(features, target[:, np.newaxis])\n",
    "        gradient = lambda_reg * weights - np.dot(np.transpose(inclass_features), output_error_signal)\n",
    "        # update weights\n",
    "        weights -= learning_rate * gradient\n",
    "        # Print log-likelihood every half of total number of iterations\n",
    "        if iteration % np.floor(num_iterations/4) == 0:\n",
    "            print('iteration: ', iteration, '\\t learning rate: ', learning_rate,\n",
    "                  '\\t max. abs. gradient: ', np.amax(np.absolute(gradient)),\n",
    "                  '\\t log-likelihood: ', log_likelihood(features, target, weights, lambda_reg))\n",
    "    return weights\n"
   ]
  },
  {
   "cell_type": "code",
   "execution_count": 0,
   "metadata": {
    "colab": {},
    "colab_type": "code",
    "id": "vaqHkzSFVae5"
   },
   "outputs": [],
   "source": [
    "def runLogisticRegression(num_iterations, lambda_reg):\n",
    "    # record predictions for each image in testing data using the 10 classifiers\n",
    "    allpreds   = np.zeros((testLabels.shape[0],10))\n",
    "    # record weights (add column to include bias/intercept)\n",
    "    allweights = np.zeros((785,10))\n",
    "    # define class for digit\n",
    "    digits  = [0,1,2,3,4,5,6,7,8,9]\n",
    "    for digit_class in digits:\n",
    "        #\n",
    "        print('****************************************************************')\n",
    "        print('Logistic Regression with L2-regularization where λ = {0}:'.format(lambda_reg))\n",
    "        print('classifier {0}-versus-rest:'.format(digit_class))\n",
    "        #\n",
    "        # STEP 1: re-label data with +1 (in class) and -1 (not in class)\n",
    "        # Data: copy\n",
    "        train_features = np.copy(trainvalData)\n",
    "        test_features  = np.copy(testData)\n",
    "        # Labels: convert from string to float to allow signed values\n",
    "        train_labels   = np.copy(trainvalLabels).astype(float)\n",
    "        test_labels    = np.copy(testLabels).astype(float)\n",
    "        # if label is NOT digit_class, set train_labels = -1\n",
    "        # otherwise, set train_labels = 1\n",
    "        # do similarly for test_labels\n",
    "        # set all labels NOT equal to digit_class to -1 (i.e. NOT IN CLASS)\n",
    "        # set all labels equal to digit_class to 1 (i.e. IN CLASS)\n",
    "        train_labels[train_labels != digit_class] = -1\n",
    "        train_labels[train_labels == digit_class] = 1\n",
    "        test_labels[test_labels != digit_class] = -1\n",
    "        test_labels[test_labels == digit_class] = 1\n",
    "        #\n",
    "        # STEP 2: compute weights using training data / labels\n",
    "        weights = logistic_regression(train_features, train_labels,\n",
    "                            num_iterations, lambda_reg)\n",
    "        #\n",
    "        # STEP 3: evaluate accuracy on testing data\n",
    "        # using our logistic regression algorithm from scratch:\n",
    "        final_scores = np.dot(np.hstack((np.ones((test_features.shape[0], 1)),\n",
    "                                        test_features)), weights)\n",
    "        preds        = sigmoid(final_scores)\n",
    "        # record predictions of this classifier for future comparison with other classifiers\n",
    "        allpreds[:,digit_class]   = np.copy(preds)\n",
    "        # also record weights of this classifier to show them as images later\n",
    "        allweights[:,digit_class] = np.copy(weights)\n",
    "    #\n",
    "    # STEP 3: evaluate accuracy on testing data (continued)\n",
    "    # classify each image from testing data\n",
    "    # for each image, there are 10 prediction probabilities (from each classifier)\n",
    "    # select label corresponding to highest probabilities among these 10 values\n",
    "    predictedLabels = np.empty(allpreds.shape[0])\n",
    "    for i in range(allpreds.shape[0]):\n",
    "        # prediction for image i using the 10 different classifiers:\n",
    "        image_preds        = np.copy(allpreds[i,:])\n",
    "        # argmax is the index of the highest probability; this index is also the predicted label\n",
    "        ind                = np.unravel_index(np.argmax(image_preds, axis=None), image_preds.shape)\n",
    "        predictedLabels[i] = ind[0]\n",
    "        # print('image', i, 'with true label', testLabels[i], 'classified as', ind[0], 'with probability', image_preds[ind])\n",
    "    # convert predicted labels to integer type\n",
    "    predictedLabels = predictedLabels.astype(int)\n",
    "    #\n",
    "    # confusion matrix\n",
    "    confusionMatrix = np.zeros((10,10))\n",
    "    for i in range(testLabels.shape[0]):\n",
    "        confusionMatrix[testLabels[i],predictedLabels[i]] = confusionMatrix[testLabels[i],predictedLabels[i]] + 1\n",
    "    # print('confusion matrix:\\n',confusionMatrix.astype(int))\n",
    "    # accuracy for each digit\n",
    "    # by comparing actual label to corresponding predicted label (row wise)\n",
    "    accuracy_per_digit = np.zeros(10)\n",
    "    for i in range(confusionMatrix.shape[0]):\n",
    "        accuracy_per_digit[i] = confusionMatrix[i,i] / np.sum(confusionMatrix[i,:])\n",
    "        # print('accuracy for true label ', i, 'is ', 100 * accuracy_per_digit[i], '%')\n",
    "    # overall accuracy\n",
    "    correct_overall = 0\n",
    "    for i in range(confusionMatrix.shape[0]):\n",
    "        correct_overall += confusionMatrix[i,i] \n",
    "    accuracy_overall = correct_overall / np.sum(confusionMatrix)\n",
    "    # print('overall accuracy for all true labels is ', 100 * accuracy_overall, '%')\n",
    "    #\n",
    "    return allweights, confusionMatrix, accuracy_per_digit, accuracy_overall\n"
   ]
  },
  {
   "cell_type": "markdown",
   "metadata": {
    "colab_type": "text",
    "id": "I3D1gkmKqUVN"
   },
   "source": [
    "Run algorithm:"
   ]
  },
  {
   "cell_type": "code",
   "execution_count": null,
   "metadata": {
    "colab": {
     "base_uri": "https://localhost:8080/",
     "height": 1000
    },
    "colab_type": "code",
    "executionInfo": {
     "elapsed": 621630,
     "status": "ok",
     "timestamp": 1584739661611,
     "user": {
      "displayName": "Mohamed Ait Mhamed Belcaid",
      "photoUrl": "https://lh3.googleusercontent.com/a-/AOh14Gj3YniscJ4BUeKN4EKFcU5pm_IUZqkpUZDbGlgINA=s64",
      "userId": "01130297007541980381"
     },
     "user_tz": 240
    },
    "id": "BKnpg49fLBtx",
    "outputId": "904f54cb-be62-49ee-8c04-5fa8e1fc2bac",
    "scrolled": false
   },
   "outputs": [],
   "source": [
    "num_iterations = 201 # 501 # 1001\n",
    "# regularization parameter\n",
    "lambdas = [1e-5, 1e-4, 1e-3, 1e-2, 1e-1, 1, 1e1, 1e2]\n",
    "accuracy_all = np.zeros(len(lambdas))\n",
    "for k in range(len(lambdas)):\n",
    "    lambda_reg               = lambdas[k]\n",
    "    _, _, _, accuracy_all[k] = runLogisticRegression(num_iterations, lambda_reg)\n"
   ]
  },
  {
   "cell_type": "code",
   "execution_count": 9,
   "metadata": {
    "colab": {
     "base_uri": "https://localhost:8080/",
     "height": 69
    },
    "colab_type": "code",
    "executionInfo": {
     "elapsed": 27,
     "status": "ok",
     "timestamp": 1584739661613,
     "user": {
      "displayName": "Mohamed Ait Mhamed Belcaid",
      "photoUrl": "https://lh3.googleusercontent.com/a-/AOh14Gj3YniscJ4BUeKN4EKFcU5pm_IUZqkpUZDbGlgINA=s64",
      "userId": "01130297007541980381"
     },
     "user_tz": 240
    },
    "id": "WSawB0eu5wcd",
    "outputId": "dfdc5931-7a53-4f3f-c197-a111bbe7653a"
   },
   "outputs": [
    {
     "name": "stdout",
     "output_type": "stream",
     "text": [
      "λ values:  [1e-05, 0.0001, 0.001, 0.01, 0.1, 1, 10.0, 100.0]\n",
      "log10(λ) values:  [-5. -4. -3. -2. -1.  0.  1.  2.]\n",
      "overall testing accuracy values (in %):  [80.41 80.51 84.22 84.21 80.58 84.19 84.54 80.48]\n"
     ]
    }
   ],
   "source": [
    "print('λ values: ',lambdas)\n",
    "print('log10(λ) values: ',np.log10(lambdas))\n",
    "print('overall testing accuracy values (in %): ',100 * accuracy_all)"
   ]
  },
  {
   "cell_type": "code",
   "execution_count": 10,
   "metadata": {
    "colab": {
     "base_uri": "https://localhost:8080/",
     "height": 313
    },
    "colab_type": "code",
    "executionInfo": {
     "elapsed": 16,
     "status": "ok",
     "timestamp": 1584739661614,
     "user": {
      "displayName": "Mohamed Ait Mhamed Belcaid",
      "photoUrl": "https://lh3.googleusercontent.com/a-/AOh14Gj3YniscJ4BUeKN4EKFcU5pm_IUZqkpUZDbGlgINA=s64",
      "userId": "01130297007541980381"
     },
     "user_tz": 240
    },
    "id": "MCh1ao7qU5c4",
    "outputId": "bd90ee2e-6111-465d-ef11-e817d3744633"
   },
   "outputs": [
    {
     "name": "stdout",
     "output_type": "stream",
     "text": [
      "****************************************************************\n",
      "Plot of overall testing accuracy (in %) vs log10(λ)\n"
     ]
    },
    {
     "data": {
      "image/png": "[encoded data removed]",
      "text/plain": [
       "<Figure size 432x288 with 1 Axes>"
      ]
     },
     "metadata": {
      "tags": []
     },
     "output_type": "display_data"
    }
   ],
   "source": [
    "# Plot overall test accuracy versus log10 of regularization values λ\n",
    "print('****************************************************************')\n",
    "print('Plot of overall testing accuracy (in %) vs log10(λ)')\n",
    "if len(lambdas) >= 5:\n",
    "    plt.plot(np.log10(lambdas), 100 * accuracy_all)\n",
    "    plt.xticks(np.log10(lambdas))\n",
    "    plt.xlabel('log10(λ)')\n",
    "    plt.ylabel('Overall testing accuracy (in %)')\n",
    "    plt.show()\n"
   ]
  },
  {
   "cell_type": "code",
   "execution_count": null,
   "metadata": {
    "colab": {
     "base_uri": "https://localhost:8080/",
     "height": 1000
    },
    "colab_type": "code",
    "executionInfo": {
     "elapsed": 301030,
     "status": "ok",
     "timestamp": 1584739962637,
     "user": {
      "displayName": "Mohamed Ait Mhamed Belcaid",
      "photoUrl": "https://lh3.googleusercontent.com/a-/AOh14Gj3YniscJ4BUeKN4EKFcU5pm_IUZqkpUZDbGlgINA=s64",
      "userId": "01130297007541980381"
     },
     "user_tz": 240
    },
    "id": "0i7v8iau1XT9",
    "outputId": "ab5937d6-9045-468e-ccbc-9030e574427e"
   },
   "outputs": [],
   "source": [
    "# select regularizer value with highest accuracy:\n",
    "idx         = np.argmax(accuracy_all)  # Only the first occurrence is returned\n",
    "lambda_best = lambdas[idx]\n",
    "print('Best regularization value is λ = ', lambda_best)\n",
    "allweights, confusionMatrix, accuracy_per_digit, accuracy_overall = runLogisticRegression(num_iterations, lambda_best)\n",
    "# confusion matrix\n",
    "print('\\n')\n",
    "print('Confusion Matrix:\\n',confusionMatrix.astype(int))\n",
    "# accuracy for each digit\n",
    "print('\\n')\n",
    "for i in range(confusionMatrix.shape[0]):\n",
    "    print('Accuracy for True Label ', i, 'is ', 100 * accuracy_per_digit[i], '%')\n",
    "# overall accuracy\n",
    "print('\\n')\n",
    "print('Overall Accuracy for all True Labels is ', 100 * accuracy_overall, '%')\n"
   ]
  },
  {
   "cell_type": "code",
   "execution_count": 0,
   "metadata": {
    "colab": {},
    "colab_type": "code",
    "id": "_a5FioueSP8k"
   },
   "outputs": [],
   "source": [
    "def plot_digit(some_digit):\n",
    "    # From online reference: plot vector as image\n",
    "    # reshape 784 vector to 28x28\n",
    "    some_digit_image = some_digit.reshape(28,28)\n",
    "    # plot as image\n",
    "    plt.imshow(some_digit_image, cmap = matplotlib.cm.binary, interpolation = \"nearest\")\n",
    "    plt.axis(\"off\")\n",
    "    plt.show()\n"
   ]
  },
  {
   "cell_type": "code",
   "execution_count": 13,
   "metadata": {
    "colab": {
     "base_uri": "https://localhost:8080/",
     "height": 1000
    },
    "colab_type": "code",
    "executionInfo": {
     "elapsed": 318,
     "status": "ok",
     "timestamp": 1584739962923,
     "user": {
      "displayName": "Mohamed Ait Mhamed Belcaid",
      "photoUrl": "https://lh3.googleusercontent.com/a-/AOh14Gj3YniscJ4BUeKN4EKFcU5pm_IUZqkpUZDbGlgINA=s64",
      "userId": "01130297007541980381"
     },
     "user_tz": 240
    },
    "id": "mk5pAouDyvnr",
    "outputId": "4475714e-78fa-4751-cbe4-2cf7c8c3161f"
   },
   "outputs": [
    {
     "name": "stdout",
     "output_type": "stream",
     "text": [
      "(784, 10)\n",
      "classifier 0-versus-rest:\n"
     ]
    },
    {
     "name": "stderr",
     "output_type": "stream",
     "text": [
      "/usr/local/lib/python3.6/dist-packages/ipykernel_launcher.py:10: RuntimeWarning: divide by zero encountered in log\n",
      "  # Remove the CWD from sys.path while we load stuff.\n",
      "/usr/local/lib/python3.6/dist-packages/ipykernel_launcher.py:10: RuntimeWarning: invalid value encountered in log\n",
      "  # Remove the CWD from sys.path while we load stuff.\n"
     ]
    },
    {
     "data": {
      "image/png": "[encoded data removed]",
      "text/plain": [
       "<Figure size 432x288 with 1 Axes>"
      ]
     },
     "metadata": {
      "tags": []
     },
     "output_type": "display_data"
    },
    {
     "name": "stdout",
     "output_type": "stream",
     "text": [
      "classifier 1-versus-rest:\n"
     ]
    },
    {
     "data": {
      "image/png": "[encoded data removed]",
      "text/plain": [
       "<Figure size 432x288 with 1 Axes>"
      ]
     },
     "metadata": {
      "tags": []
     },
     "output_type": "display_data"
    },
    {
     "name": "stdout",
     "output_type": "stream",
     "text": [
      "classifier 2-versus-rest:\n"
     ]
    },
    {
     "data": {
      "image/png": "[encoded data removed]",
      "text/plain": [
       "<Figure size 432x288 with 1 Axes>"
      ]
     },
     "metadata": {
      "tags": []
     },
     "output_type": "display_data"
    },
    {
     "name": "stdout",
     "output_type": "stream",
     "text": [
      "classifier 3-versus-rest:\n"
     ]
    },
    {
     "data": {
      "image/png": "[encoded data removed]",
      "text/plain": [
       "<Figure size 432x288 with 1 Axes>"
      ]
     },
     "metadata": {
      "tags": []
     },
     "output_type": "display_data"
    },
    {
     "name": "stdout",
     "output_type": "stream",
     "text": [
      "classifier 4-versus-rest:\n"
     ]
    },
    {
     "data": {
      "image/png": "[encoded data removed]",
      "text/plain": [
       "<Figure size 432x288 with 1 Axes>"
      ]
     },
     "metadata": {
      "tags": []
     },
     "output_type": "display_data"
    },
    {
     "name": "stdout",
     "output_type": "stream",
     "text": [
      "classifier 5-versus-rest:\n"
     ]
    },
    {
     "data": {
      "image/png": "[encoded data removed]",
      "text/plain": [
       "<Figure size 432x288 with 1 Axes>"
      ]
     },
     "metadata": {
      "tags": []
     },
     "output_type": "display_data"
    },
    {
     "name": "stdout",
     "output_type": "stream",
     "text": [
      "classifier 6-versus-rest:\n"
     ]
    },
    {
     "data": {
      "image/png": "[encoded data removed]",
      "text/plain": [
       "<Figure size 432x288 with 1 Axes>"
      ]
     },
     "metadata": {
      "tags": []
     },
     "output_type": "display_data"
    },
    {
     "name": "stdout",
     "output_type": "stream",
     "text": [
      "classifier 7-versus-rest:\n"
     ]
    },
    {
     "data": {
      "image/png": "[encoded data removed]",
      "text/plain": [
       "<Figure size 432x288 with 1 Axes>"
      ]
     },
     "metadata": {
      "tags": []
     },
     "output_type": "display_data"
    },
    {
     "name": "stdout",
     "output_type": "stream",
     "text": [
      "classifier 8-versus-rest:\n"
     ]
    },
    {
     "data": {
      "image/png": "[encoded data removed]",
      "text/plain": [
       "<Figure size 432x288 with 1 Axes>"
      ]
     },
     "metadata": {
      "tags": []
     },
     "output_type": "display_data"
    },
    {
     "name": "stdout",
     "output_type": "stream",
     "text": [
      "classifier 9-versus-rest:\n"
     ]
    },
    {
     "data": {
      "image/png": "[encoded data removed]",
      "text/plain": [
       "<Figure size 432x288 with 1 Axes>"
      ]
     },
     "metadata": {
      "tags": []
     },
     "output_type": "display_data"
    }
   ],
   "source": [
    "# For each of your 10 trained classifiers, showing an image of the \n",
    "# 784 weights (after removing the bias weight) as a 28×28 image.\n",
    "# delete row 0 (first):\n",
    "allweights_nobias = np.delete(allweights, 0, axis=0)\n",
    "print(allweights_nobias.shape)\n",
    "digits  = [0,1,2,3,4,5,6,7,8,9]\n",
    "for digit_class in digits:\n",
    "    print('classifier {0}-versus-rest:'.format(digit_class))\n",
    "    # get weights vector; reshape to 28x28\n",
    "    weights_vec = allweights_nobias[:,digit_class]\n",
    "    # visualization is clearer with the log of weights\n",
    "    # show as image\n",
    "    plot_digit(np.log(weights_vec))\n"
   ]
  },
  {
   "cell_type": "markdown",
   "metadata": {
    "colab_type": "text",
    "id": "Gz4umwv4fHwH"
   },
   "source": [
    "## Tests:\n",
    "\n",
    "For any digit $\\# \\in \\{0,1,2,3,4,5,6,7,8,9\\}$, the ‘digit # versus rest’ classifier is trained to give a probability of the digit # versus all other digits; digit # is labeled class +1 and all other digits are labeled class -1. Hence, to classify a test image, the maximum probability from all 10 classifiers is chosen, giving the predicted class of the input image.\n",
    "\n",
    "The update equation for the regularized logistic regression is obtained by taking the gradient of $\\mathcal{L}(\\pmb{w})$. This derivation is presented for L2-regularized logistic regression that uses the following **log-likelihood**:\n",
    "\n",
    "$$\\mathcal{L}(\\pmb{w}) = \\frac{\\lambda}{2} ||\\pmb{w}||_2^2 + \\sum_{i=1}^N log(1+exp(-y_i\\pmb{w}^Tx_i)) = \\frac{\\lambda}{2} \\pmb{w}^T \\pmb{w} + \\sum_{i=1}^N log(1+exp(-y_i\\pmb{w}^Tx_i))$$\n",
    "\n",
    "$$\\nabla_{\\pmb{w}}\\mathcal{L}(\\pmb{w}) = \\lambda \\pmb{w} + \\sum_{i=1}^N \\frac{1}{1+exp(-y_i\\pmb{w}^Tx_i)} \\nabla_{\\pmb{w}}(1+exp(-y_i\\pmb{w}^Tx_i)) = \\lambda \\pmb{w} + \\sum_{i=1}^N \\frac{1}{1+exp(-y_i\\pmb{w}^Tx_i)} \\nabla_{\\pmb{w}}(exp(-y_i\\pmb{w}^Tx_i))$$\n",
    "\n",
    "$$= \\lambda \\pmb{w} + \\sum_{i=1}^N \\frac{1}{1+exp(-y_i\\pmb{w}^Tx_i)} exp(-y_i\\pmb{w}^Tx_i) \\nabla_{\\pmb{w}}(-y_i\\pmb{w}^Tx_i) = \\lambda \\pmb{w} + \\sum_{i=1}^N \\frac{1}{1+exp(-y_i\\pmb{w}^Tx_i)} exp(-y_i\\pmb{w}^Tx_i) (-y_i x_i)$$\n",
    "\n",
    "$$\\nabla \\mathcal{L}(\\pmb{w}) = \\lambda \\pmb{w} - \\sum_{i=1}^N \\frac{y_i x_i exp(-y_i\\pmb{w}^Tx_i)}{1+exp(-y_i\\pmb{w}^Tx_i)} = \\lambda \\pmb{w} - \\sum_{i=1}^N y_i x_i (1 - p(y_i | x_i))$$\n",
    "\n",
    "with the prediction probability:\n",
    "\n",
    "$$p(y_i | x_i) = \\sigma(y_i\\pmb{w}^Tx_i) = \\frac{1}{1+exp(-y_i\\pmb{w}^Tx_i)}$$\n",
    "\n",
    "and the gradient descent update equation for L2-regularized logistic regression:\n",
    "\n",
    "$$\\pmb{w}_{t+1}=\\pmb{w}_t-\\eta_t\\nabla\\mathcal{L}(\\pmb{w}); \\quad \\eta_t \\propto 1/\\sqrt{t}$$\n",
    "\n",
    "A logistic regression classifier with ridge (L2) regularization is developed. This classifier is tested on the MNIST data set by developing 10 classifiers: 0-versus-rest, 1-versus-rest, ... , 9-versus-rest. A small enough variable learning rate is used: $\\eta_t = 5.10^{-4}/\\sqrt{t}$, with a total number of iterations $t_{max}=200$.\n",
    "\n",
    "The confusion matrix is shown above, where rows represent true labels (0-9) and columns the predicted labels (0-9). The number of correctly classified digits are along the diagonal of the confusion matrix, which are the dominant majority of classified digits in the testing set.\n",
    "\n",
    "The accuracy for each digit is shown above. Accuracy for 0 and 1 is > 94% since these two digits have distinct shapes from all other digits. Accuracy drops to 66-75% for digits 9 and 5 since these two digits have shapes that are similar to each other. Other digits have an accuracy around 82-87%.\n",
    "\n",
    "The overall accuracy is shown above. For the best regularizer $log_{10}=1$, it is equal to 84.54%. Note that $log_{10}(\\lambda)$ values: [-5. -4. -3. -2. -1.  0.  1.  2.] correspond to overall testing accuracy values (in %): [80.41 80.51 84.22 84.21 80.58 84.19 84.54 80.48]\n",
    "Note that values $log_{10}(\\lambda)=[-3., -2., 0.,  1.]$ all result in overall accuracy around 84%. The overall test accuracy versus the $log_{10}$ of regularization value is plotted above and confirms this result.\n",
    "\n",
    "For each of the 10 trained classifiers, an image of the 784 weights (excluding the bias weight) is shown as a $28 \\times 28$ image. These images provide insight to how this classifier works: weights w represent the importance of a pixel in the image, and so higher weights are given to pixels that describe the shape of the digit, and lower weights are givens to less important pixels such as background pixels. The image of the weights look very similar to the digit that is being classified."
   ]
  }
 ],
 "metadata": {
  "accelerator": "GPU",
  "anaconda-cloud": {},
  "colab": {
   "collapsed_sections": [],
   "name": "Classification_Project2_Logistic_Regression.ipynb",
   "provenance": []
  },
  "kernelspec": {
   "display_name": "Python 3",
   "language": "python",
   "name": "python3"
  },
  "language_info": {
   "codemirror_mode": {
    "name": "ipython",
    "version": 3
   },
   "file_extension": ".py",
   "mimetype": "text/x-python",
   "name": "python",
   "nbconvert_exporter": "python",
   "pygments_lexer": "ipython3",
   "version": "3.7.4"
  }
 },
 "nbformat": 4,
 "nbformat_minor": 1
}
